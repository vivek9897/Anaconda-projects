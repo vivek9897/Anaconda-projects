{
 "cells": [
  {
   "cell_type": "markdown",
   "metadata": {},
   "source": [
    "# Prisoners Data Visualization"
   ]
  },
  {
   "cell_type": "markdown",
   "metadata": {},
   "source": [
    "### Step 1: Import the necessary libraries"
   ]
  },
  {
   "cell_type": "code",
   "execution_count": 2,
   "metadata": {},
   "outputs": [],
   "source": [
    "import pandas as pd"
   ]
  },
  {
   "cell_type": "markdown",
   "metadata": {},
   "source": [
    "### Step 2: Load the data and display first 5 and last 5 records"
   ]
  },
  {
   "cell_type": "code",
   "execution_count": 3,
   "metadata": {},
   "outputs": [],
   "source": [
    "data = pd.read_csv('https://raw.githubusercontent.com/cabudies/Python-8-September-2018/master/Panda%20Library%20Exercises/4-7.%20Apply%2C%20Merge%2C%20Stats%2C%20Visualization/7.%20Prisoners/Prisoners-Dataset.csv')"
   ]
  },
  {
   "cell_type": "code",
   "execution_count": 4,
   "metadata": {
    "scrolled": true
   },
   "outputs": [
    {
     "data": {
      "text/html": [
       "<div>\n",
       "<style scoped>\n",
       "    .dataframe tbody tr th:only-of-type {\n",
       "        vertical-align: middle;\n",
       "    }\n",
       "\n",
       "    .dataframe tbody tr th {\n",
       "        vertical-align: top;\n",
       "    }\n",
       "\n",
       "    .dataframe thead th {\n",
       "        text-align: right;\n",
       "    }\n",
       "</style>\n",
       "<table border=\"1\" class=\"dataframe\">\n",
       "  <thead>\n",
       "    <tr style=\"text-align: right;\">\n",
       "      <th></th>\n",
       "      <th>STATE/UT</th>\n",
       "      <th>YEAR</th>\n",
       "      <th>No. of Inmates benefitted by Elementary Education</th>\n",
       "      <th>No. of Inmates benefitted by Adult Education</th>\n",
       "      <th>No. of Inmates benefitted by Higher Education</th>\n",
       "      <th>No. of Inmates benefitted by Computer Course</th>\n",
       "    </tr>\n",
       "  </thead>\n",
       "  <tbody>\n",
       "    <tr>\n",
       "      <th>0</th>\n",
       "      <td>Andhra Pradesh</td>\n",
       "      <td>2013</td>\n",
       "      <td>9480</td>\n",
       "      <td>13758</td>\n",
       "      <td>672</td>\n",
       "      <td>170</td>\n",
       "    </tr>\n",
       "    <tr>\n",
       "      <th>1</th>\n",
       "      <td>Arunachal Pradesh</td>\n",
       "      <td>2013</td>\n",
       "      <td>0</td>\n",
       "      <td>0</td>\n",
       "      <td>0</td>\n",
       "      <td>0</td>\n",
       "    </tr>\n",
       "    <tr>\n",
       "      <th>2</th>\n",
       "      <td>Assam</td>\n",
       "      <td>2013</td>\n",
       "      <td>676</td>\n",
       "      <td>750</td>\n",
       "      <td>14</td>\n",
       "      <td>30</td>\n",
       "    </tr>\n",
       "    <tr>\n",
       "      <th>3</th>\n",
       "      <td>Bihar</td>\n",
       "      <td>2013</td>\n",
       "      <td>1693</td>\n",
       "      <td>3013</td>\n",
       "      <td>125</td>\n",
       "      <td>1417</td>\n",
       "    </tr>\n",
       "    <tr>\n",
       "      <th>4</th>\n",
       "      <td>Chhatisgarh</td>\n",
       "      <td>2013</td>\n",
       "      <td>1664</td>\n",
       "      <td>1803</td>\n",
       "      <td>192</td>\n",
       "      <td>103</td>\n",
       "    </tr>\n",
       "  </tbody>\n",
       "</table>\n",
       "</div>"
      ],
      "text/plain": [
       "            STATE/UT  YEAR  No. of Inmates benefitted by Elementary Education  \\\n",
       "0     Andhra Pradesh  2013                                               9480   \n",
       "1  Arunachal Pradesh  2013                                                  0   \n",
       "2              Assam  2013                                                676   \n",
       "3              Bihar  2013                                               1693   \n",
       "4        Chhatisgarh  2013                                               1664   \n",
       "\n",
       "   No. of Inmates benefitted by Adult Education  \\\n",
       "0                                         13758   \n",
       "1                                             0   \n",
       "2                                           750   \n",
       "3                                          3013   \n",
       "4                                          1803   \n",
       "\n",
       "   No. of Inmates benefitted by Higher Education  \\\n",
       "0                                            672   \n",
       "1                                              0   \n",
       "2                                             14   \n",
       "3                                            125   \n",
       "4                                            192   \n",
       "\n",
       "   No. of Inmates benefitted by Computer Course  \n",
       "0                                           170  \n",
       "1                                             0  \n",
       "2                                            30  \n",
       "3                                          1417  \n",
       "4                                           103  "
      ]
     },
     "execution_count": 4,
     "metadata": {},
     "output_type": "execute_result"
    }
   ],
   "source": [
    "data.head()"
   ]
  },
  {
   "cell_type": "code",
   "execution_count": 5,
   "metadata": {},
   "outputs": [
    {
     "data": {
      "text/html": [
       "<div>\n",
       "<style scoped>\n",
       "    .dataframe tbody tr th:only-of-type {\n",
       "        vertical-align: middle;\n",
       "    }\n",
       "\n",
       "    .dataframe tbody tr th {\n",
       "        vertical-align: top;\n",
       "    }\n",
       "\n",
       "    .dataframe thead th {\n",
       "        text-align: right;\n",
       "    }\n",
       "</style>\n",
       "<table border=\"1\" class=\"dataframe\">\n",
       "  <thead>\n",
       "    <tr style=\"text-align: right;\">\n",
       "      <th></th>\n",
       "      <th>STATE/UT</th>\n",
       "      <th>YEAR</th>\n",
       "      <th>No. of Inmates benefitted by Elementary Education</th>\n",
       "      <th>No. of Inmates benefitted by Adult Education</th>\n",
       "      <th>No. of Inmates benefitted by Higher Education</th>\n",
       "      <th>No. of Inmates benefitted by Computer Course</th>\n",
       "    </tr>\n",
       "  </thead>\n",
       "  <tbody>\n",
       "    <tr>\n",
       "      <th>30</th>\n",
       "      <td>D &amp; N Haveli</td>\n",
       "      <td>2013</td>\n",
       "      <td>0</td>\n",
       "      <td>0</td>\n",
       "      <td>0</td>\n",
       "      <td>0</td>\n",
       "    </tr>\n",
       "    <tr>\n",
       "      <th>31</th>\n",
       "      <td>Daman &amp; Diu</td>\n",
       "      <td>2013</td>\n",
       "      <td>0</td>\n",
       "      <td>0</td>\n",
       "      <td>0</td>\n",
       "      <td>0</td>\n",
       "    </tr>\n",
       "    <tr>\n",
       "      <th>32</th>\n",
       "      <td>Delhi</td>\n",
       "      <td>2013</td>\n",
       "      <td>1458</td>\n",
       "      <td>1187</td>\n",
       "      <td>908</td>\n",
       "      <td>174</td>\n",
       "    </tr>\n",
       "    <tr>\n",
       "      <th>33</th>\n",
       "      <td>Lakshadweep</td>\n",
       "      <td>2013</td>\n",
       "      <td>0</td>\n",
       "      <td>0</td>\n",
       "      <td>0</td>\n",
       "      <td>0</td>\n",
       "    </tr>\n",
       "    <tr>\n",
       "      <th>34</th>\n",
       "      <td>Pondicherry</td>\n",
       "      <td>2013</td>\n",
       "      <td>0</td>\n",
       "      <td>0</td>\n",
       "      <td>0</td>\n",
       "      <td>0</td>\n",
       "    </tr>\n",
       "  </tbody>\n",
       "</table>\n",
       "</div>"
      ],
      "text/plain": [
       "        STATE/UT  YEAR  No. of Inmates benefitted by Elementary Education  \\\n",
       "30  D & N Haveli  2013                                                  0   \n",
       "31   Daman & Diu  2013                                                  0   \n",
       "32         Delhi  2013                                               1458   \n",
       "33   Lakshadweep  2013                                                  0   \n",
       "34   Pondicherry  2013                                                  0   \n",
       "\n",
       "    No. of Inmates benefitted by Adult Education  \\\n",
       "30                                             0   \n",
       "31                                             0   \n",
       "32                                          1187   \n",
       "33                                             0   \n",
       "34                                             0   \n",
       "\n",
       "    No. of Inmates benefitted by Higher Education  \\\n",
       "30                                              0   \n",
       "31                                              0   \n",
       "32                                            908   \n",
       "33                                              0   \n",
       "34                                              0   \n",
       "\n",
       "    No. of Inmates benefitted by Computer Course  \n",
       "30                                             0  \n",
       "31                                             0  \n",
       "32                                           174  \n",
       "33                                             0  \n",
       "34                                             0  "
      ]
     },
     "execution_count": 5,
     "metadata": {},
     "output_type": "execute_result"
    }
   ],
   "source": [
    "data.tail()"
   ]
  },
  {
   "cell_type": "markdown",
   "metadata": {},
   "source": [
    "### Step 3: Describe the data"
   ]
  },
  {
   "cell_type": "code",
   "execution_count": 6,
   "metadata": {},
   "outputs": [
    {
     "data": {
      "text/html": [
       "<div>\n",
       "<style scoped>\n",
       "    .dataframe tbody tr th:only-of-type {\n",
       "        vertical-align: middle;\n",
       "    }\n",
       "\n",
       "    .dataframe tbody tr th {\n",
       "        vertical-align: top;\n",
       "    }\n",
       "\n",
       "    .dataframe thead th {\n",
       "        text-align: right;\n",
       "    }\n",
       "</style>\n",
       "<table border=\"1\" class=\"dataframe\">\n",
       "  <thead>\n",
       "    <tr style=\"text-align: right;\">\n",
       "      <th></th>\n",
       "      <th>YEAR</th>\n",
       "      <th>No. of Inmates benefitted by Elementary Education</th>\n",
       "      <th>No. of Inmates benefitted by Adult Education</th>\n",
       "      <th>No. of Inmates benefitted by Higher Education</th>\n",
       "      <th>No. of Inmates benefitted by Computer Course</th>\n",
       "    </tr>\n",
       "  </thead>\n",
       "  <tbody>\n",
       "    <tr>\n",
       "      <th>count</th>\n",
       "      <td>35.0</td>\n",
       "      <td>35.000000</td>\n",
       "      <td>35.000000</td>\n",
       "      <td>35.000000</td>\n",
       "      <td>35.000000</td>\n",
       "    </tr>\n",
       "    <tr>\n",
       "      <th>mean</th>\n",
       "      <td>2013.0</td>\n",
       "      <td>1057.914286</td>\n",
       "      <td>1534.857143</td>\n",
       "      <td>237.457143</td>\n",
       "      <td>210.171429</td>\n",
       "    </tr>\n",
       "    <tr>\n",
       "      <th>std</th>\n",
       "      <td>0.0</td>\n",
       "      <td>2078.196777</td>\n",
       "      <td>3022.110503</td>\n",
       "      <td>375.614191</td>\n",
       "      <td>359.117340</td>\n",
       "    </tr>\n",
       "    <tr>\n",
       "      <th>min</th>\n",
       "      <td>2013.0</td>\n",
       "      <td>0.000000</td>\n",
       "      <td>0.000000</td>\n",
       "      <td>0.000000</td>\n",
       "      <td>0.000000</td>\n",
       "    </tr>\n",
       "    <tr>\n",
       "      <th>25%</th>\n",
       "      <td>2013.0</td>\n",
       "      <td>0.000000</td>\n",
       "      <td>6.500000</td>\n",
       "      <td>2.000000</td>\n",
       "      <td>0.000000</td>\n",
       "    </tr>\n",
       "    <tr>\n",
       "      <th>50%</th>\n",
       "      <td>2013.0</td>\n",
       "      <td>167.000000</td>\n",
       "      <td>237.000000</td>\n",
       "      <td>33.000000</td>\n",
       "      <td>38.000000</td>\n",
       "    </tr>\n",
       "    <tr>\n",
       "      <th>75%</th>\n",
       "      <td>2013.0</td>\n",
       "      <td>1294.500000</td>\n",
       "      <td>1733.500000</td>\n",
       "      <td>234.500000</td>\n",
       "      <td>227.500000</td>\n",
       "    </tr>\n",
       "    <tr>\n",
       "      <th>max</th>\n",
       "      <td>2013.0</td>\n",
       "      <td>9480.000000</td>\n",
       "      <td>13758.000000</td>\n",
       "      <td>1353.000000</td>\n",
       "      <td>1417.000000</td>\n",
       "    </tr>\n",
       "  </tbody>\n",
       "</table>\n",
       "</div>"
      ],
      "text/plain": [
       "         YEAR  No. of Inmates benefitted by Elementary Education  \\\n",
       "count    35.0                                          35.000000   \n",
       "mean   2013.0                                        1057.914286   \n",
       "std       0.0                                        2078.196777   \n",
       "min    2013.0                                           0.000000   \n",
       "25%    2013.0                                           0.000000   \n",
       "50%    2013.0                                         167.000000   \n",
       "75%    2013.0                                        1294.500000   \n",
       "max    2013.0                                        9480.000000   \n",
       "\n",
       "       No. of Inmates benefitted by Adult Education  \\\n",
       "count                                     35.000000   \n",
       "mean                                    1534.857143   \n",
       "std                                     3022.110503   \n",
       "min                                        0.000000   \n",
       "25%                                        6.500000   \n",
       "50%                                      237.000000   \n",
       "75%                                     1733.500000   \n",
       "max                                    13758.000000   \n",
       "\n",
       "       No. of Inmates benefitted by Higher Education  \\\n",
       "count                                      35.000000   \n",
       "mean                                      237.457143   \n",
       "std                                       375.614191   \n",
       "min                                         0.000000   \n",
       "25%                                         2.000000   \n",
       "50%                                        33.000000   \n",
       "75%                                       234.500000   \n",
       "max                                      1353.000000   \n",
       "\n",
       "       No. of Inmates benefitted by Computer Course  \n",
       "count                                     35.000000  \n",
       "mean                                     210.171429  \n",
       "std                                      359.117340  \n",
       "min                                        0.000000  \n",
       "25%                                        0.000000  \n",
       "50%                                       38.000000  \n",
       "75%                                      227.500000  \n",
       "max                                     1417.000000  "
      ]
     },
     "execution_count": 6,
     "metadata": {},
     "output_type": "execute_result"
    }
   ],
   "source": [
    "data.describe()"
   ]
  },
  {
   "cell_type": "markdown",
   "metadata": {},
   "source": [
    "### Step 4: Create a column 'total_benefitted' that shows sum of inmates with respect to each State/UT"
   ]
  },
  {
   "cell_type": "code",
   "execution_count": 7,
   "metadata": {},
   "outputs": [],
   "source": [
    "data.drop('YEAR',axis=1,inplace=True)"
   ]
  },
  {
   "cell_type": "code",
   "execution_count": 8,
   "metadata": {},
   "outputs": [
    {
     "data": {
      "text/plain": [
       "<bound method DataFrame.info of              STATE/UT  No. of Inmates benefitted by Elementary Education  \\\n",
       "0      Andhra Pradesh                                               9480   \n",
       "1   Arunachal Pradesh                                                  0   \n",
       "2               Assam                                                676   \n",
       "3               Bihar                                               1693   \n",
       "4         Chhatisgarh                                               1664   \n",
       "5                 Goa                                                  7   \n",
       "6             Gujarat                                               2310   \n",
       "7             Haryana                                               1131   \n",
       "8    Himachal Pradesh                                                 33   \n",
       "9     Jammu & Kashmir                                                102   \n",
       "10          Jharkhand                                               3008   \n",
       "11          Karnataka                                                633   \n",
       "12             Kerala                                                156   \n",
       "13     Madhya Pradesh                                               1978   \n",
       "14        Maharashtra                                                346   \n",
       "15            Manipur                                                  0   \n",
       "16          Meghalaya                                                  1   \n",
       "17            Mizoram                                                  0   \n",
       "18           Nagaland                                                  0   \n",
       "19             Orissa                                                622   \n",
       "20             Punjab                                                325   \n",
       "21          Rajasthan                                               1050   \n",
       "22             Sikkim                                                  0   \n",
       "23          Tamilnadu                                                 68   \n",
       "24            Tripura                                                 15   \n",
       "25      Uttar Pradesh                                               7876   \n",
       "26        Uttaranchal                                                205   \n",
       "27        West Bengal                                               2023   \n",
       "28      A & N Islands                                                167   \n",
       "29         Chandigarh                                                  0   \n",
       "30       D & N Haveli                                                  0   \n",
       "31        Daman & Diu                                                  0   \n",
       "32              Delhi                                               1458   \n",
       "33        Lakshadweep                                                  0   \n",
       "34        Pondicherry                                                  0   \n",
       "\n",
       "    No. of Inmates benefitted by Adult Education  \\\n",
       "0                                          13758   \n",
       "1                                              0   \n",
       "2                                            750   \n",
       "3                                           3013   \n",
       "4                                           1803   \n",
       "5                                              0   \n",
       "6                                           3133   \n",
       "7                                            774   \n",
       "8                                             80   \n",
       "9                                            124   \n",
       "10                                          2595   \n",
       "11                                           568   \n",
       "12                                            96   \n",
       "13                                          9574   \n",
       "14                                          2743   \n",
       "15                                             0   \n",
       "16                                            30   \n",
       "17                                            25   \n",
       "18                                             0   \n",
       "19                                           613   \n",
       "20                                           606   \n",
       "21                                           237   \n",
       "22                                             0   \n",
       "23                                          1664   \n",
       "24                                            13   \n",
       "25                                          8093   \n",
       "26                                            42   \n",
       "27                                          1889   \n",
       "28                                            45   \n",
       "29                                           265   \n",
       "30                                             0   \n",
       "31                                             0   \n",
       "32                                          1187   \n",
       "33                                             0   \n",
       "34                                             0   \n",
       "\n",
       "    No. of Inmates benefitted by Higher Education  \\\n",
       "0                                             672   \n",
       "1                                               0   \n",
       "2                                              14   \n",
       "3                                             125   \n",
       "4                                             192   \n",
       "5                                               6   \n",
       "6                                             875   \n",
       "7                                            1112   \n",
       "8                                              26   \n",
       "9                                              33   \n",
       "10                                            138   \n",
       "11                                            170   \n",
       "12                                             24   \n",
       "13                                            301   \n",
       "14                                            882   \n",
       "15                                              0   \n",
       "16                                              0   \n",
       "17                                             18   \n",
       "18                                              0   \n",
       "19                                            277   \n",
       "20                                            112   \n",
       "21                                             64   \n",
       "22                                              0   \n",
       "23                                            757   \n",
       "24                                              4   \n",
       "25                                           1353   \n",
       "26                                             29   \n",
       "27                                            123   \n",
       "28                                             11   \n",
       "29                                             85   \n",
       "30                                              0   \n",
       "31                                              0   \n",
       "32                                            908   \n",
       "33                                              0   \n",
       "34                                              0   \n",
       "\n",
       "    No. of Inmates benefitted by Computer Course  \n",
       "0                                            170  \n",
       "1                                              0  \n",
       "2                                             30  \n",
       "3                                           1417  \n",
       "4                                            103  \n",
       "5                                             88  \n",
       "6                                            966  \n",
       "7                                            243  \n",
       "8                                              0  \n",
       "9                                             34  \n",
       "10                                           574  \n",
       "11                                            12  \n",
       "12                                           250  \n",
       "13                                           151  \n",
       "14                                          1330  \n",
       "15                                             0  \n",
       "16                                             0  \n",
       "17                                             0  \n",
       "18                                             0  \n",
       "19                                           384  \n",
       "20                                           168  \n",
       "21                                            38  \n",
       "22                                             0  \n",
       "23                                           478  \n",
       "24                                             2  \n",
       "25                                           212  \n",
       "26                                            72  \n",
       "27                                           460  \n",
       "28                                             0  \n",
       "29                                             0  \n",
       "30                                             0  \n",
       "31                                             0  \n",
       "32                                           174  \n",
       "33                                             0  \n",
       "34                                             0  >"
      ]
     },
     "execution_count": 8,
     "metadata": {},
     "output_type": "execute_result"
    }
   ],
   "source": [
    "data.info"
   ]
  },
  {
   "cell_type": "code",
   "execution_count": 9,
   "metadata": {},
   "outputs": [],
   "source": [
    "##data['total'] = data['No. of Inmates benefitted by Elementary Education'] + data['No. of Inmates benefitted by Adult Education'] + data['No. of Inmates benefitted by Higher Education'] + data['No. of Inmates benefitted by Computer Course']\n",
    "data['total'] = data.sum(axis=1)"
   ]
  },
  {
   "cell_type": "code",
   "execution_count": 10,
   "metadata": {},
   "outputs": [
    {
     "data": {
      "text/html": [
       "<div>\n",
       "<style scoped>\n",
       "    .dataframe tbody tr th:only-of-type {\n",
       "        vertical-align: middle;\n",
       "    }\n",
       "\n",
       "    .dataframe tbody tr th {\n",
       "        vertical-align: top;\n",
       "    }\n",
       "\n",
       "    .dataframe thead th {\n",
       "        text-align: right;\n",
       "    }\n",
       "</style>\n",
       "<table border=\"1\" class=\"dataframe\">\n",
       "  <thead>\n",
       "    <tr style=\"text-align: right;\">\n",
       "      <th></th>\n",
       "      <th>STATE/UT</th>\n",
       "      <th>No. of Inmates benefitted by Elementary Education</th>\n",
       "      <th>No. of Inmates benefitted by Adult Education</th>\n",
       "      <th>No. of Inmates benefitted by Higher Education</th>\n",
       "      <th>No. of Inmates benefitted by Computer Course</th>\n",
       "      <th>total</th>\n",
       "    </tr>\n",
       "  </thead>\n",
       "  <tbody>\n",
       "    <tr>\n",
       "      <th>0</th>\n",
       "      <td>Andhra Pradesh</td>\n",
       "      <td>9480</td>\n",
       "      <td>13758</td>\n",
       "      <td>672</td>\n",
       "      <td>170</td>\n",
       "      <td>24080</td>\n",
       "    </tr>\n",
       "    <tr>\n",
       "      <th>1</th>\n",
       "      <td>Arunachal Pradesh</td>\n",
       "      <td>0</td>\n",
       "      <td>0</td>\n",
       "      <td>0</td>\n",
       "      <td>0</td>\n",
       "      <td>0</td>\n",
       "    </tr>\n",
       "    <tr>\n",
       "      <th>2</th>\n",
       "      <td>Assam</td>\n",
       "      <td>676</td>\n",
       "      <td>750</td>\n",
       "      <td>14</td>\n",
       "      <td>30</td>\n",
       "      <td>1470</td>\n",
       "    </tr>\n",
       "    <tr>\n",
       "      <th>3</th>\n",
       "      <td>Bihar</td>\n",
       "      <td>1693</td>\n",
       "      <td>3013</td>\n",
       "      <td>125</td>\n",
       "      <td>1417</td>\n",
       "      <td>6248</td>\n",
       "    </tr>\n",
       "    <tr>\n",
       "      <th>4</th>\n",
       "      <td>Chhatisgarh</td>\n",
       "      <td>1664</td>\n",
       "      <td>1803</td>\n",
       "      <td>192</td>\n",
       "      <td>103</td>\n",
       "      <td>3762</td>\n",
       "    </tr>\n",
       "  </tbody>\n",
       "</table>\n",
       "</div>"
      ],
      "text/plain": [
       "            STATE/UT  No. of Inmates benefitted by Elementary Education  \\\n",
       "0     Andhra Pradesh                                               9480   \n",
       "1  Arunachal Pradesh                                                  0   \n",
       "2              Assam                                                676   \n",
       "3              Bihar                                               1693   \n",
       "4        Chhatisgarh                                               1664   \n",
       "\n",
       "   No. of Inmates benefitted by Adult Education  \\\n",
       "0                                         13758   \n",
       "1                                             0   \n",
       "2                                           750   \n",
       "3                                          3013   \n",
       "4                                          1803   \n",
       "\n",
       "   No. of Inmates benefitted by Higher Education  \\\n",
       "0                                            672   \n",
       "1                                              0   \n",
       "2                                             14   \n",
       "3                                            125   \n",
       "4                                            192   \n",
       "\n",
       "   No. of Inmates benefitted by Computer Course  total  \n",
       "0                                           170  24080  \n",
       "1                                             0      0  \n",
       "2                                            30   1470  \n",
       "3                                          1417   6248  \n",
       "4                                           103   3762  "
      ]
     },
     "execution_count": 10,
     "metadata": {},
     "output_type": "execute_result"
    }
   ],
   "source": [
    "data.head()"
   ]
  },
  {
   "cell_type": "markdown",
   "metadata": {},
   "source": [
    "### Step 5: Create a bar char with total benefitted inmates values in descending order"
   ]
  },
  {
   "cell_type": "code",
   "execution_count": 11,
   "metadata": {},
   "outputs": [],
   "source": [
    "import matplotlib.pyplot as plt"
   ]
  },
  {
   "cell_type": "code",
   "execution_count": 12,
   "metadata": {},
   "outputs": [],
   "source": [
    "data = data.sort_values('total',ascending =False) "
   ]
  },
  {
   "cell_type": "code",
   "execution_count": 13,
   "metadata": {},
   "outputs": [],
   "source": [
    "data = data.set_index('STATE/UT')"
   ]
  },
  {
   "cell_type": "code",
   "execution_count": 14,
   "metadata": {},
   "outputs": [
    {
     "data": {
      "text/plain": [
       "<matplotlib.axes._subplots.AxesSubplot at 0x252281f3fd0>"
      ]
     },
     "execution_count": 14,
     "metadata": {},
     "output_type": "execute_result"
    },
    {
     "data": {
      "image/png": "[encoded data removed]",
      "text/plain": [
       "<Figure size 432x288 with 1 Axes>"
      ]
     },
     "metadata": {
      "needs_background": "light"
     },
     "output_type": "display_data"
    }
   ],
   "source": [
    "data['total'][:12].plot(kind='bar')"
   ]
  },
  {
   "cell_type": "code",
   "execution_count": 15,
   "metadata": {},
   "outputs": [],
   "source": [
    "import seaborn as sns"
   ]
  },
  {
   "cell_type": "code",
   "execution_count": 16,
   "metadata": {},
   "outputs": [],
   "source": [
    "sns.set()"
   ]
  },
  {
   "cell_type": "code",
   "execution_count": 17,
   "metadata": {},
   "outputs": [],
   "source": [
    "font = {\n",
    "    'size' :20\n",
    "    }"
   ]
  },
  {
   "cell_type": "code",
   "execution_count": 18,
   "metadata": {},
   "outputs": [
    {
     "data": {
      "image/png": "[encoded data removed]",
      "text/plain": [
       "<Figure size 864x504 with 1 Axes>"
      ]
     },
     "metadata": {},
     "output_type": "display_data"
    }
   ],
   "source": [
    "plt.figure(figsize=(12,7))\n",
    "data['total'][:8].plot(kind='bar')\n",
    "plt.xticks(rotation = 30)\n",
    "plt.yticks(rotation = 30)\n",
    "plt.title('State vs total_benefitted',fontdict=font)\n",
    "plt.xlabel('state Name',fontdict=font)\n",
    "plt.ylabel('total_benefitted',fontdict=font)\n",
    "plt.savefig('State-vs-total-benefitted.png')"
   ]
  },
  {
   "cell_type": "markdown",
   "metadata": {},
   "source": [
    "### Step 6: Create a pie chart to show ratio among different modes of benefits"
   ]
  },
  {
   "cell_type": "code",
   "execution_count": 19,
   "metadata": {},
   "outputs": [
    {
     "data": {
      "text/plain": [
       "Index(['No. of Inmates benefitted by Elementary Education',\n",
       "       'No. of Inmates benefitted by Adult Education',\n",
       "       'No. of Inmates benefitted by Higher Education',\n",
       "       'No. of Inmates benefitted by Computer Course', 'total'],\n",
       "      dtype='object')"
      ]
     },
     "execution_count": 19,
     "metadata": {},
     "output_type": "execute_result"
    }
   ],
   "source": [
    "data.columns"
   ]
  },
  {
   "cell_type": "code",
   "execution_count": 20,
   "metadata": {},
   "outputs": [],
   "source": [
    "data.columns = ['Elementary','Adult','Higher','Computer','Total_benefitted']"
   ]
  },
  {
   "cell_type": "code",
   "execution_count": 21,
   "metadata": {},
   "outputs": [],
   "source": [
    "elementary_edu = data['Elementary'].sum(axis=0)\n",
    "adult_edu = data['Adult'].sum(axis=0)\n",
    "computer_edu = data['Computer'].sum(axis=0)\n",
    "higher_edu = data['Higher'].sum(axis=0)"
   ]
  },
  {
   "cell_type": "code",
   "execution_count": 22,
   "metadata": {},
   "outputs": [],
   "source": [
    "total_benefits  = {\n",
    "    'Elementary': elementary_edu,\n",
    "    'Computer': computer_edu,\n",
    "    'Adult' : adult_edu,\n",
    "    'Higher': higher_edu,\n",
    "}"
   ]
  },
  {
   "cell_type": "code",
   "execution_count": 23,
   "metadata": {},
   "outputs": [],
   "source": [
    "total_benefits = pd.Series(total_benefits)"
   ]
  },
  {
   "cell_type": "code",
   "execution_count": 24,
   "metadata": {},
   "outputs": [],
   "source": [
    "total_benefits = total_benefits.sort_values(ascending=False)"
   ]
  },
  {
   "cell_type": "code",
   "execution_count": 26,
   "metadata": {},
   "outputs": [
    {
     "data": {
      "text/plain": [
       "([<matplotlib.patches.Wedge at 0x25229205da0>,\n",
       "  <matplotlib.patches.Wedge at 0x2522920e4e0>,\n",
       "  <matplotlib.patches.Wedge at 0x2522920ebe0>,\n",
       "  <matplotlib.patches.Wedge at 0x25229219320>],\n",
       " [Text(-0.016658933777995516, 1.0998738472776688, 'Adult'),\n",
       "  Text(-0.47586704130371094, -0.9917411754086106, 'Elementary'),\n",
       "  Text(0.8555421853426585, -0.6914098416273147, 'Higher'),\n",
       "  Text(1.0741631195981802, -0.23700968861020405, 'Computer')],\n",
       " [Text(-0.009086691151633916, 0.5999311894241829, '50.48'),\n",
       "  Text(-0.25956384071111505, -0.5409497320410602, '34.80'),\n",
       "  Text(0.4666593738232682, -0.37713264088762616, '7.81'),\n",
       "  Text(0.5859071561444619, -0.1292780119692022, '6.91')])"
      ]
     },
     "execution_count": 26,
     "metadata": {},
     "output_type": "execute_result"
    },
    {
     "data": {
      "image/png": "[encoded data removed]",
      "text/plain": [
       "<Figure size 2160x1440 with 1 Axes>"
      ]
     },
     "metadata": {},
     "output_type": "display_data"
    }
   ],
   "source": [
    "plt.figure(figsize=(30,20))\n",
    "\n",
    "plt.pie(total_benefits,labels=total_benefits.index,autopct=\"%.2f\")"
   ]
  },
  {
   "cell_type": "markdown",
   "metadata": {},
   "source": [
    "### Step 7: For the 5 highest benefitted states, create \n",
    "1. Bar chart. \n",
    "2. Stacked bar chart \n",
    "3. 100% stacked chart"
   ]
  },
  {
   "cell_type": "code",
   "execution_count": 300,
   "metadata": {},
   "outputs": [
    {
     "data": {
      "text/plain": [
       "STATE/UT\n",
       "Andhra Pradesh       24080\n",
       "Uttar Pradesh        17534\n",
       "Madhya Pradesh       12004\n",
       "Gujarat               7284\n",
       "Jharkhand             6315\n",
       "Bihar                 6248\n",
       "Maharashtra           5301\n",
       "West Bengal           4495\n",
       "Chhatisgarh           3762\n",
       "Delhi                 3727\n",
       "Haryana               3260\n",
       "Tamilnadu             2967\n",
       "Orissa                1896\n",
       "Assam                 1470\n",
       "Rajasthan             1389\n",
       "Karnataka             1383\n",
       "Punjab                1211\n",
       "Kerala                 526\n",
       "Chandigarh             350\n",
       "Uttaranchal            348\n",
       "Jammu & Kashmir        293\n",
       "A & N Islands          223\n",
       "Himachal Pradesh       139\n",
       "Goa                    101\n",
       "Mizoram                 43\n",
       "Tripura                 34\n",
       "Meghalaya               31\n",
       "Sikkim                   0\n",
       "Nagaland                 0\n",
       "Arunachal Pradesh        0\n",
       "D & N Haveli             0\n",
       "Daman & Diu              0\n",
       "Manipur                  0\n",
       "Lakshadweep              0\n",
       "Pondicherry              0\n",
       "Name: Total_benefitted, dtype: int64"
      ]
     },
     "execution_count": 300,
     "metadata": {},
     "output_type": "execute_result"
    }
   ],
   "source": [
    "data['Total_benefitted']"
   ]
  },
  {
   "cell_type": "code",
   "execution_count": 301,
   "metadata": {},
   "outputs": [],
   "source": [
    "highest_states = data.sort_values('Total_benefitted',axis=0,ascending=False)"
   ]
  },
  {
   "cell_type": "code",
   "execution_count": 302,
   "metadata": {},
   "outputs": [
    {
     "data": {
      "text/html": [
       "<div>\n",
       "<style scoped>\n",
       "    .dataframe tbody tr th:only-of-type {\n",
       "        vertical-align: middle;\n",
       "    }\n",
       "\n",
       "    .dataframe tbody tr th {\n",
       "        vertical-align: top;\n",
       "    }\n",
       "\n",
       "    .dataframe thead th {\n",
       "        text-align: right;\n",
       "    }\n",
       "</style>\n",
       "<table border=\"1\" class=\"dataframe\">\n",
       "  <thead>\n",
       "    <tr style=\"text-align: right;\">\n",
       "      <th></th>\n",
       "      <th>Elementary</th>\n",
       "      <th>Adult</th>\n",
       "      <th>Higher</th>\n",
       "      <th>Computer</th>\n",
       "      <th>Total_benefitted</th>\n",
       "    </tr>\n",
       "    <tr>\n",
       "      <th>STATE/UT</th>\n",
       "      <th></th>\n",
       "      <th></th>\n",
       "      <th></th>\n",
       "      <th></th>\n",
       "      <th></th>\n",
       "    </tr>\n",
       "  </thead>\n",
       "  <tbody>\n",
       "    <tr>\n",
       "      <th>Andhra Pradesh</th>\n",
       "      <td>9480</td>\n",
       "      <td>13758</td>\n",
       "      <td>672</td>\n",
       "      <td>170</td>\n",
       "      <td>24080</td>\n",
       "    </tr>\n",
       "    <tr>\n",
       "      <th>Uttar Pradesh</th>\n",
       "      <td>7876</td>\n",
       "      <td>8093</td>\n",
       "      <td>1353</td>\n",
       "      <td>212</td>\n",
       "      <td>17534</td>\n",
       "    </tr>\n",
       "    <tr>\n",
       "      <th>Madhya Pradesh</th>\n",
       "      <td>1978</td>\n",
       "      <td>9574</td>\n",
       "      <td>301</td>\n",
       "      <td>151</td>\n",
       "      <td>12004</td>\n",
       "    </tr>\n",
       "    <tr>\n",
       "      <th>Gujarat</th>\n",
       "      <td>2310</td>\n",
       "      <td>3133</td>\n",
       "      <td>875</td>\n",
       "      <td>966</td>\n",
       "      <td>7284</td>\n",
       "    </tr>\n",
       "    <tr>\n",
       "      <th>Jharkhand</th>\n",
       "      <td>3008</td>\n",
       "      <td>2595</td>\n",
       "      <td>138</td>\n",
       "      <td>574</td>\n",
       "      <td>6315</td>\n",
       "    </tr>\n",
       "  </tbody>\n",
       "</table>\n",
       "</div>"
      ],
      "text/plain": [
       "                Elementary  Adult  Higher  Computer  Total_benefitted\n",
       "STATE/UT                                                             \n",
       "Andhra Pradesh        9480  13758     672       170             24080\n",
       "Uttar Pradesh         7876   8093    1353       212             17534\n",
       "Madhya Pradesh        1978   9574     301       151             12004\n",
       "Gujarat               2310   3133     875       966              7284\n",
       "Jharkhand             3008   2595     138       574              6315"
      ]
     },
     "execution_count": 302,
     "metadata": {},
     "output_type": "execute_result"
    }
   ],
   "source": [
    "highest_states.head()"
   ]
  },
  {
   "cell_type": "code",
   "execution_count": 303,
   "metadata": {},
   "outputs": [],
   "source": [
    "highest_states.drop('Total_benefitted',axis=1,inplace=True)"
   ]
  },
  {
   "cell_type": "code",
   "execution_count": 304,
   "metadata": {
    "scrolled": false
   },
   "outputs": [
    {
     "data": {
      "text/plain": [
       "<matplotlib.axes._subplots.AxesSubplot at 0x21e47037898>"
      ]
     },
     "execution_count": 304,
     "metadata": {},
     "output_type": "execute_result"
    },
    {
     "data": {
      "image/png": "[encoded data removed]",
      "text/plain": [
       "<Figure size 1080x504 with 1 Axes>"
      ]
     },
     "metadata": {},
     "output_type": "display_data"
    }
   ],
   "source": [
    "sns.set(rc={'figure.figsize':(15, 7)})\n",
    "highest_states[:8].plot(kind='bar')\n"
   ]
  },
  {
   "cell_type": "code",
   "execution_count": 305,
   "metadata": {},
   "outputs": [
    {
     "data": {
      "text/plain": [
       "<matplotlib.axes._subplots.AxesSubplot at 0x21e485be6a0>"
      ]
     },
     "execution_count": 305,
     "metadata": {},
     "output_type": "execute_result"
    },
    {
     "data": {
      "image/png": "[encoded data removed]",
      "text/plain": [
       "<Figure size 1080x504 with 1 Axes>"
      ]
     },
     "metadata": {},
     "output_type": "display_data"
    }
   ],
   "source": [
    "sns.set(rc={'figure.figsize':(15, 7)})\n",
    "highest_states[:5].plot(kind='bar',stacked= True)"
   ]
  },
  {
   "cell_type": "code",
   "execution_count": 306,
   "metadata": {},
   "outputs": [],
   "source": [
    "highest_states['total']= highest_states.sum(axis=1)"
   ]
  },
  {
   "cell_type": "code",
   "execution_count": 307,
   "metadata": {},
   "outputs": [
    {
     "data": {
      "text/html": [
       "<div>\n",
       "<style scoped>\n",
       "    .dataframe tbody tr th:only-of-type {\n",
       "        vertical-align: middle;\n",
       "    }\n",
       "\n",
       "    .dataframe tbody tr th {\n",
       "        vertical-align: top;\n",
       "    }\n",
       "\n",
       "    .dataframe thead th {\n",
       "        text-align: right;\n",
       "    }\n",
       "</style>\n",
       "<table border=\"1\" class=\"dataframe\">\n",
       "  <thead>\n",
       "    <tr style=\"text-align: right;\">\n",
       "      <th></th>\n",
       "      <th>Elementary</th>\n",
       "      <th>Adult</th>\n",
       "      <th>Higher</th>\n",
       "      <th>Computer</th>\n",
       "      <th>total</th>\n",
       "    </tr>\n",
       "    <tr>\n",
       "      <th>STATE/UT</th>\n",
       "      <th></th>\n",
       "      <th></th>\n",
       "      <th></th>\n",
       "      <th></th>\n",
       "      <th></th>\n",
       "    </tr>\n",
       "  </thead>\n",
       "  <tbody>\n",
       "    <tr>\n",
       "      <th>Andhra Pradesh</th>\n",
       "      <td>9480</td>\n",
       "      <td>13758</td>\n",
       "      <td>672</td>\n",
       "      <td>170</td>\n",
       "      <td>24080</td>\n",
       "    </tr>\n",
       "    <tr>\n",
       "      <th>Uttar Pradesh</th>\n",
       "      <td>7876</td>\n",
       "      <td>8093</td>\n",
       "      <td>1353</td>\n",
       "      <td>212</td>\n",
       "      <td>17534</td>\n",
       "    </tr>\n",
       "    <tr>\n",
       "      <th>Madhya Pradesh</th>\n",
       "      <td>1978</td>\n",
       "      <td>9574</td>\n",
       "      <td>301</td>\n",
       "      <td>151</td>\n",
       "      <td>12004</td>\n",
       "    </tr>\n",
       "    <tr>\n",
       "      <th>Gujarat</th>\n",
       "      <td>2310</td>\n",
       "      <td>3133</td>\n",
       "      <td>875</td>\n",
       "      <td>966</td>\n",
       "      <td>7284</td>\n",
       "    </tr>\n",
       "    <tr>\n",
       "      <th>Jharkhand</th>\n",
       "      <td>3008</td>\n",
       "      <td>2595</td>\n",
       "      <td>138</td>\n",
       "      <td>574</td>\n",
       "      <td>6315</td>\n",
       "    </tr>\n",
       "  </tbody>\n",
       "</table>\n",
       "</div>"
      ],
      "text/plain": [
       "                Elementary  Adult  Higher  Computer  total\n",
       "STATE/UT                                                  \n",
       "Andhra Pradesh        9480  13758     672       170  24080\n",
       "Uttar Pradesh         7876   8093    1353       212  17534\n",
       "Madhya Pradesh        1978   9574     301       151  12004\n",
       "Gujarat               2310   3133     875       966   7284\n",
       "Jharkhand             3008   2595     138       574   6315"
      ]
     },
     "execution_count": 307,
     "metadata": {},
     "output_type": "execute_result"
    }
   ],
   "source": [
    "highest_states.head()"
   ]
  },
  {
   "cell_type": "code",
   "execution_count": 308,
   "metadata": {},
   "outputs": [],
   "source": [
    "highest_states=highest_states.apply(lambda x:round(x*100/highest_states['total']))"
   ]
  },
  {
   "cell_type": "code",
   "execution_count": 309,
   "metadata": {},
   "outputs": [
    {
     "data": {
      "text/html": [
       "<div>\n",
       "<style scoped>\n",
       "    .dataframe tbody tr th:only-of-type {\n",
       "        vertical-align: middle;\n",
       "    }\n",
       "\n",
       "    .dataframe tbody tr th {\n",
       "        vertical-align: top;\n",
       "    }\n",
       "\n",
       "    .dataframe thead th {\n",
       "        text-align: right;\n",
       "    }\n",
       "</style>\n",
       "<table border=\"1\" class=\"dataframe\">\n",
       "  <thead>\n",
       "    <tr style=\"text-align: right;\">\n",
       "      <th></th>\n",
       "      <th>Elementary</th>\n",
       "      <th>Adult</th>\n",
       "      <th>Higher</th>\n",
       "      <th>Computer</th>\n",
       "      <th>total</th>\n",
       "    </tr>\n",
       "    <tr>\n",
       "      <th>STATE/UT</th>\n",
       "      <th></th>\n",
       "      <th></th>\n",
       "      <th></th>\n",
       "      <th></th>\n",
       "      <th></th>\n",
       "    </tr>\n",
       "  </thead>\n",
       "  <tbody>\n",
       "    <tr>\n",
       "      <th>Andhra Pradesh</th>\n",
       "      <td>39.0</td>\n",
       "      <td>57.0</td>\n",
       "      <td>3.0</td>\n",
       "      <td>1.0</td>\n",
       "      <td>100.0</td>\n",
       "    </tr>\n",
       "    <tr>\n",
       "      <th>Uttar Pradesh</th>\n",
       "      <td>45.0</td>\n",
       "      <td>46.0</td>\n",
       "      <td>8.0</td>\n",
       "      <td>1.0</td>\n",
       "      <td>100.0</td>\n",
       "    </tr>\n",
       "    <tr>\n",
       "      <th>Madhya Pradesh</th>\n",
       "      <td>16.0</td>\n",
       "      <td>80.0</td>\n",
       "      <td>3.0</td>\n",
       "      <td>1.0</td>\n",
       "      <td>100.0</td>\n",
       "    </tr>\n",
       "    <tr>\n",
       "      <th>Gujarat</th>\n",
       "      <td>32.0</td>\n",
       "      <td>43.0</td>\n",
       "      <td>12.0</td>\n",
       "      <td>13.0</td>\n",
       "      <td>100.0</td>\n",
       "    </tr>\n",
       "    <tr>\n",
       "      <th>Jharkhand</th>\n",
       "      <td>48.0</td>\n",
       "      <td>41.0</td>\n",
       "      <td>2.0</td>\n",
       "      <td>9.0</td>\n",
       "      <td>100.0</td>\n",
       "    </tr>\n",
       "  </tbody>\n",
       "</table>\n",
       "</div>"
      ],
      "text/plain": [
       "                Elementary  Adult  Higher  Computer  total\n",
       "STATE/UT                                                  \n",
       "Andhra Pradesh        39.0   57.0     3.0       1.0  100.0\n",
       "Uttar Pradesh         45.0   46.0     8.0       1.0  100.0\n",
       "Madhya Pradesh        16.0   80.0     3.0       1.0  100.0\n",
       "Gujarat               32.0   43.0    12.0      13.0  100.0\n",
       "Jharkhand             48.0   41.0     2.0       9.0  100.0"
      ]
     },
     "execution_count": 309,
     "metadata": {},
     "output_type": "execute_result"
    }
   ],
   "source": [
    "highest_states.head()"
   ]
  },
  {
   "cell_type": "code",
   "execution_count": 310,
   "metadata": {},
   "outputs": [],
   "source": [
    "highest_states.drop('total',axis=1,inplace=True)"
   ]
  },
  {
   "cell_type": "code",
   "execution_count": 311,
   "metadata": {},
   "outputs": [
    {
     "data": {
      "text/plain": [
       "<matplotlib.axes._subplots.AxesSubplot at 0x21e4864a358>"
      ]
     },
     "execution_count": 311,
     "metadata": {},
     "output_type": "execute_result"
    },
    {
     "data": {
      "image/png": "[encoded data removed]",
      "text/plain": [
       "<Figure size 1080x504 with 1 Axes>"
      ]
     },
     "metadata": {},
     "output_type": "display_data"
    }
   ],
   "source": [
    "sns.set(rc={'figure.figsize':(15,7)})\n",
    "highest_states[:5].plot(kind='bar',stacked = True)"
   ]
  },
  {
   "cell_type": "code",
   "execution_count": null,
   "metadata": {},
   "outputs": [],
   "source": []
  },
  {
   "cell_type": "code",
   "execution_count": null,
   "metadata": {},
   "outputs": [],
   "source": []
  },
  {
   "cell_type": "code",
   "execution_count": null,
   "metadata": {},
   "outputs": [],
   "source": []
  }
 ],
 "metadata": {
  "kernelspec": {
   "display_name": "Python 3",
   "language": "python",
   "name": "python3"
  },
  "language_info": {
   "codemirror_mode": {
    "name": "ipython",
    "version": 3
   },
   "file_extension": ".py",
   "mimetype": "text/x-python",
   "name": "python",
   "nbconvert_exporter": "python",
   "pygments_lexer": "ipython3",
   "version": "3.7.1"
  },
  "latex_envs": {
   "LaTeX_envs_menu_present": true,
   "autoclose": false,
   "autocomplete": true,
   "bibliofile": "biblio.bib",
   "cite_by": "apalike",
   "current_citInitial": 1,
   "eqLabelWithNumbers": true,
   "eqNumInitial": 1,
   "hotkeys": {
    "equation": "Ctrl-E",
    "itemize": "Ctrl-I"
   },
   "labels_anchors": false,
   "latex_user_defs": false,
   "report_style_numbering": false,
   "user_envs_cfg": false
  }
 },
 "nbformat": 4,
 "nbformat_minor": 2
}
